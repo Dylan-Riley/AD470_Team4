{
  "nbformat": 4,
  "nbformat_minor": 0,
  "metadata": {
    "colab": {
      "name": "Project 1.ipynb",
      "provenance": []
    },
    "kernelspec": {
      "name": "python3",
      "display_name": "Python 3"
    },
    "language_info": {
      "name": "python"
    }
  },
  "cells": [
    {
      "cell_type": "markdown",
      "source": [
        "# Getting Data\n",
        "\n",
        "First: Get some dog images"
      ],
      "metadata": {
        "id": "VU0Ttdxu36v_"
      }
    },
    {
      "cell_type": "code",
      "execution_count": 1,
      "metadata": {
        "colab": {
          "base_uri": "https://localhost:8080/"
        },
        "id": "GjNB6wAOrqEp",
        "outputId": "93aba545-e701-4200-e31f-7b5e8b9bd4d8"
      },
      "outputs": [
        {
          "output_type": "stream",
          "name": "stdout",
          "text": [
            "--2022-04-21 22:46:13--  https://storage.googleapis.com/mledu-datasets/cats_and_dogs_filtered.zip\n",
            "Resolving storage.googleapis.com (storage.googleapis.com)... 64.233.189.128, 108.177.97.128, 108.177.125.128, ...\n",
            "Connecting to storage.googleapis.com (storage.googleapis.com)|64.233.189.128|:443... connected.\n",
            "HTTP request sent, awaiting response... 200 OK\n",
            "Length: 68606236 (65M) [application/zip]\n",
            "Saving to: ‘/tmp/cats_and_dogs_filtered.zip’\n",
            "\n",
            "/tmp/cats_and_dogs_ 100%[===================>]  65.43M  36.3MB/s    in 1.8s    \n",
            "\n",
            "2022-04-21 22:46:16 (36.3 MB/s) - ‘/tmp/cats_and_dogs_filtered.zip’ saved [68606236/68606236]\n",
            "\n"
          ]
        }
      ],
      "source": [
        "# Get the 2000 dogs and cats from the Google ML Practicum for Image Classification\n",
        "!wget --no-check-certificate \\\n",
        "    https://storage.googleapis.com/mledu-datasets/cats_and_dogs_filtered.zip \\\n",
        "    -O /tmp/cats_and_dogs_filtered.zip"
      ]
    },
    {
      "cell_type": "code",
      "source": [
        "import os\n",
        "import zipfile\n",
        "import shutil"
      ],
      "metadata": {
        "id": "PvIMK-ZCXhG8"
      },
      "execution_count": 2,
      "outputs": []
    },
    {
      "cell_type": "markdown",
      "source": [
        "The next cell is getting folders ready for data, separated out for ease of testing the data sorting and file moving. Can only be run once."
      ],
      "metadata": {
        "id": "Q20Sd0W6ZG1B"
      }
    },
    {
      "cell_type": "code",
      "source": [
        "os.mkdir('our_data')\n",
        "os.mkdir('our_data/train')\n",
        "os.mkdir('our_data/train/dogs')\n",
        "os.mkdir('our_data/validation')\n",
        "os.mkdir('our_data/validation/dogs')\n",
        "\n",
        "os.mkdir('our_data/train/coyotes')\n",
        "os.mkdir('our_data/validation/coyotes')"
      ],
      "metadata": {
        "id": "yRrhM_E-XfP_"
      },
      "execution_count": null,
      "outputs": []
    },
    {
      "cell_type": "code",
      "source": [
        "local_zip = '/tmp/cats_and_dogs_filtered.zip'\n",
        "zip_ref = zipfile.ZipFile(local_zip, 'r')\n",
        "zip_ref.extractall('/tmp')\n",
        "zip_ref.close()\n",
        "\n",
        "base_dir = '/tmp/cats_and_dogs_filtered'\n",
        "train_dogs_dir = os.path.join(base_dir, 'train/dogs/')\n",
        "validate_dogs_dir = os.path.join(base_dir, 'validation/dogs/')\n",
        "\n",
        "files = os.listdir(train_dogs_dir)\n",
        "destTrainDogs = 'our_data/train/dogs/'\n",
        "for f in files:\n",
        "  src = train_dogs_dir + f\n",
        "  dest = destTrainDogs + f\n",
        "  shutil.move(src,dest)\n",
        "\n",
        "files = os.listdir(validate_dogs_dir)\n",
        "destValidateDogs = 'our_data/validation/dogs/'\n",
        "for f in files:\n",
        "  src = validate_dogs_dir + f\n",
        "  dest = destValidateDogs + f\n",
        "  shutil.move(src,dest)  "
      ],
      "metadata": {
        "id": "p1-5Jd3Qs8C5"
      },
      "execution_count": null,
      "outputs": []
    },
    {
      "cell_type": "code",
      "source": [
        "# Test the above worked\n",
        "print(len(os.listdir('our_data/train/dogs')), \" Dog training images\")\n",
        "print(len(os.listdir('our_data/validation/dogs')), \" Dog validation images\")"
      ],
      "metadata": {
        "colab": {
          "base_uri": "https://localhost:8080/"
        },
        "id": "69dXPwqzthz1",
        "outputId": "850a127c-5bca-4d37-fa1c-a814ccb05546"
      },
      "execution_count": null,
      "outputs": [
        {
          "output_type": "stream",
          "name": "stdout",
          "text": [
            "1000  Dog training images\n",
            "500  Dog validation images\n"
          ]
        }
      ]
    },
    {
      "cell_type": "markdown",
      "source": [
        "Looks like we have 1500 images of dogs, divided up into 2/3rds training 1/3rd validation\n",
        "\n",
        "Now get some Coyote images.\n",
        "\n",
        "Just over 900 coyote images were provided by Prof. Brenden. Those are hosted in our github which I'm then downloading here."
      ],
      "metadata": {
        "id": "a0GcjVac3CXo"
      }
    },
    {
      "cell_type": "code",
      "source": [
        "# Now try to get the coyotes zip \n",
        "!wget https://github.com/Dylan-Riley/AD470_Team4/blob/main/coyotes.zip?raw=true -O coyotes.zip"
      ],
      "metadata": {
        "colab": {
          "base_uri": "https://localhost:8080/"
        },
        "id": "9s_XKjdCumyY",
        "outputId": "d78ecef7-bf5e-43d7-913f-f61c958d1828"
      },
      "execution_count": null,
      "outputs": [
        {
          "output_type": "stream",
          "name": "stdout",
          "text": [
            "--2022-04-19 22:14:42--  https://github.com/Dylan-Riley/AD470_Team4/blob/main/coyotes.zip?raw=true\n",
            "Resolving github.com (github.com)... 13.114.40.48\n",
            "Connecting to github.com (github.com)|13.114.40.48|:443... connected.\n",
            "HTTP request sent, awaiting response... 302 Found\n",
            "Location: https://github.com/Dylan-Riley/AD470_Team4/raw/main/coyotes.zip [following]\n",
            "--2022-04-19 22:14:42--  https://github.com/Dylan-Riley/AD470_Team4/raw/main/coyotes.zip\n",
            "Reusing existing connection to github.com:443.\n",
            "HTTP request sent, awaiting response... 302 Found\n",
            "Location: https://raw.githubusercontent.com/Dylan-Riley/AD470_Team4/main/coyotes.zip [following]\n",
            "--2022-04-19 22:14:42--  https://raw.githubusercontent.com/Dylan-Riley/AD470_Team4/main/coyotes.zip\n",
            "Resolving raw.githubusercontent.com (raw.githubusercontent.com)... 185.199.108.133, 185.199.109.133, 185.199.110.133, ...\n",
            "Connecting to raw.githubusercontent.com (raw.githubusercontent.com)|185.199.108.133|:443... connected.\n",
            "HTTP request sent, awaiting response... 200 OK\n",
            "Length: 67085185 (64M) [application/zip]\n",
            "Saving to: ‘coyotes.zip’\n",
            "\n",
            "coyotes.zip         100%[===================>]  63.98M   141MB/s    in 0.5s    \n",
            "\n",
            "2022-04-19 22:14:43 (141 MB/s) - ‘coyotes.zip’ saved [67085185/67085185]\n",
            "\n"
          ]
        }
      ]
    },
    {
      "cell_type": "markdown",
      "source": [
        "Then we need the data to be workable, so following the example set by the Google Developers Machine Learning Practicum on Image Classification I've split the data up into training and validation sets, roughly four training to one validation."
      ],
      "metadata": {
        "id": "0eKCqVbJ3Yng"
      }
    },
    {
      "cell_type": "code",
      "source": [
        "local_zip = '/content/coyotes.zip'\n",
        "zip_ref = zipfile.ZipFile(local_zip, 'r')\n",
        "zip_ref.extractall('/content')\n",
        "zip_ref.close()\n",
        "\n",
        "path = 'coyotes/'\n",
        "moveToTrain = 'our_data/train/coyotes/'\n",
        "moveToValidate = 'our_data/validation/coyotes/'\n",
        "i = 0\n",
        "files = os.listdir(path)\n",
        "for f in files:\n",
        "  src = path + f\n",
        "  if i % 4 == 0:\n",
        "    dest = moveToValidate + f\n",
        "  else:\n",
        "    dest = moveToTrain + f\n",
        "  shutil.move(src,dest)\n",
        "  i += 1"
      ],
      "metadata": {
        "id": "BmyvqKblvXEX"
      },
      "execution_count": null,
      "outputs": []
    },
    {
      "cell_type": "code",
      "source": [
        "print(len(os.listdir('our_data/train/coyotes')), \" Coyotes training data\")\n",
        "print(len(os.listdir('our_data/validation/coyotes')), \" Coyotes validation data\")"
      ],
      "metadata": {
        "colab": {
          "base_uri": "https://localhost:8080/"
        },
        "id": "TKreYrgHzXy6",
        "outputId": "3af62cfb-def0-4801-8189-98d0c70a713f"
      },
      "execution_count": null,
      "outputs": [
        {
          "output_type": "stream",
          "name": "stdout",
          "text": [
            "693  Coyotes training data\n",
            "232  Coyotes validation data\n"
          ]
        }
      ]
    },
    {
      "cell_type": "markdown",
      "source": [
        "Or 695 training coyotes, and 232 validatation coyotes"
      ],
      "metadata": {
        "id": "ZkpLfeafKJ9c"
      }
    },
    {
      "cell_type": "markdown",
      "source": [
        "# Data Augmentation\n",
        "\n",
        "Here we're using some of image processing functions included in the ImageDataGenerator to manipulate the images between each epoch so the model gets a \"fresh\" set of images every time"
      ],
      "metadata": {
        "id": "JfUliIQj4GQV"
      }
    },
    {
      "cell_type": "code",
      "source": [
        "from tensorflow.keras.preprocessing.image import ImageDataGenerator"
      ],
      "metadata": {
        "id": "hFsFC254-uZu"
      },
      "execution_count": null,
      "outputs": []
    },
    {
      "cell_type": "code",
      "source": [
        "trainDatagen = ImageDataGenerator(\n",
        "    rescale = 1./255,\n",
        "    rotation_range = 40,\n",
        "    width_shift_range = 0.2,\n",
        "    height_shift_range = 0.2,\n",
        "    shear_range = 0.2,\n",
        "    zoom_range = 0.2,\n",
        "    horizontal_flip = True\n",
        ")\n",
        "\n",
        "# No augmentation on validation data\n",
        "validateDatagen = ImageDataGenerator( rescale = 1./255 )\n",
        "\n",
        "trainGenerator = trainDatagen.flow_from_directory(\n",
        "    'our_data/train',\n",
        "    target_size = (150,150),\n",
        "    batch_size = 16,\n",
        "    class_mode = 'binary'\n",
        ")\n",
        "\n",
        "validationGenerator = validateDatagen.flow_from_directory(\n",
        "    'our_data/validation',\n",
        "    target_size = (150,150),\n",
        "    batch_size = 7,\n",
        "    class_mode = 'binary'\n",
        ")"
      ],
      "metadata": {
        "colab": {
          "base_uri": "https://localhost:8080/"
        },
        "id": "f565vuyh-6QG",
        "outputId": "0b8c2ac4-1861-4ad4-9be5-023a2701912f"
      },
      "execution_count": null,
      "outputs": [
        {
          "output_type": "stream",
          "name": "stdout",
          "text": [
            "Found 1692 images belonging to 2 classes.\n",
            "Found 732 images belonging to 2 classes.\n"
          ]
        }
      ]
    },
    {
      "cell_type": "markdown",
      "source": [
        "# Building the Model\n",
        "\n",
        "Finally we can build the model. Using a configuration of convolution, relu, and maxpooling that's commonly used for image classification we'll extract 16, then 32, then 64 convolutional filters. We have a similar data size to that Machine Learning practicum of about 1600 total images so we won't want to include more modules at a risk of overfitting.\n",
        "\n",
        "Speaking of which, another step is taken in here to fight overfitting is including a dropout rate of 0.5 to randomly drop nodes of layer output."
      ],
      "metadata": {
        "id": "-8XWVg5YFdOq"
      }
    },
    {
      "cell_type": "code",
      "source": [
        "from tensorflow.keras import layers, Model\n",
        "from tensorflow.keras.optimizers import RMSprop"
      ],
      "metadata": {
        "id": "ALGxO_diAYRS"
      },
      "execution_count": null,
      "outputs": []
    },
    {
      "cell_type": "code",
      "source": [
        "imgInput = layers.Input(shape = (150, 150, 3))\n",
        "\n",
        "# First convolution\n",
        "x = layers.Conv2D(16, 3, activation='relu')(imgInput)\n",
        "x = layers.MaxPooling2D(2)(x)\n",
        "\n",
        "# Second convolution\n",
        "x = layers.Conv2D(32, 3, activation='relu')(x)\n",
        "x = layers.MaxPooling2D(2)(x)\n",
        "\n",
        "# Third convolution\n",
        "x = layers.Convolution2D(64, 3, activation='relu')(x)\n",
        "x = layers.MaxPooling2D(2)(x)\n",
        "\n",
        "# Flatten\n",
        "x = layers.Flatten()(x)\n",
        "x = layers.Dense(512, activation='relu')(x)\n",
        "\n",
        "# Add dropout to help fight overfitting\n",
        "x = layers.Dropout(0.5)(x)\n",
        "\n",
        "output = layers.Dense(1, activation='sigmoid')(x)\n",
        "\n",
        "# Configure model\n",
        "model = Model(imgInput, output)\n",
        "model.compile(loss = 'binary_crossentropy', optimizer = RMSprop(learning_rate=0.001), metrics=['acc'])"
      ],
      "metadata": {
        "id": "Vx785UjmAgyT"
      },
      "execution_count": null,
      "outputs": []
    },
    {
      "cell_type": "markdown",
      "source": [
        "# Training the Model\n",
        "\n",
        "It's finally time to train the model. I'm going to start with 20 epochs just to get done a little quicker."
      ],
      "metadata": {
        "id": "ukYXAEabHuEH"
      }
    },
    {
      "cell_type": "code",
      "source": [
        "history = model.fit_generator(\n",
        "    trainGenerator,\n",
        "    steps_per_epoch = 100, # 16 batch size, approx 1600 images\n",
        "    epochs = 20,\n",
        "    validation_data = validationGenerator,\n",
        "    validation_steps = 100, # 7 batch size, approx 700 images\n",
        "    verbose = 2\n",
        ")"
      ],
      "metadata": {
        "colab": {
          "base_uri": "https://localhost:8080/"
        },
        "id": "ExRsGA94CLiI",
        "outputId": "e18111d9-cdc4-49de-ecd0-e26bf101d482"
      },
      "execution_count": null,
      "outputs": [
        {
          "output_type": "stream",
          "name": "stderr",
          "text": [
            "/usr/local/lib/python3.7/dist-packages/ipykernel_launcher.py:7: UserWarning: `Model.fit_generator` is deprecated and will be removed in a future version. Please use `Model.fit`, which supports generators.\n",
            "  import sys\n"
          ]
        },
        {
          "output_type": "stream",
          "name": "stdout",
          "text": [
            "Epoch 1/20\n",
            "100/100 - 65s - loss: 0.6952 - acc: 0.6078 - val_loss: 0.5811 - val_acc: 0.7743 - 65s/epoch - 649ms/step\n",
            "Epoch 2/20\n",
            "100/100 - 59s - loss: 0.6070 - acc: 0.7005 - val_loss: 0.6054 - val_acc: 0.6286 - 59s/epoch - 589ms/step\n",
            "Epoch 3/20\n",
            "100/100 - 58s - loss: 0.5514 - acc: 0.7400 - val_loss: 0.4027 - val_acc: 0.8157 - 58s/epoch - 577ms/step\n",
            "Epoch 4/20\n",
            "100/100 - 58s - loss: 0.5401 - acc: 0.7475 - val_loss: 0.4049 - val_acc: 0.8357 - 58s/epoch - 576ms/step\n",
            "Epoch 5/20\n",
            "100/100 - 58s - loss: 0.5492 - acc: 0.7538 - val_loss: 0.4789 - val_acc: 0.7771 - 58s/epoch - 578ms/step\n",
            "Epoch 6/20\n",
            "100/100 - 57s - loss: 0.5107 - acc: 0.7763 - val_loss: 0.4353 - val_acc: 0.7957 - 57s/epoch - 575ms/step\n",
            "Epoch 7/20\n",
            "100/100 - 58s - loss: 0.5138 - acc: 0.7782 - val_loss: 0.3793 - val_acc: 0.8429 - 58s/epoch - 577ms/step\n",
            "Epoch 8/20\n",
            "100/100 - 58s - loss: 0.4986 - acc: 0.7845 - val_loss: 0.3436 - val_acc: 0.8657 - 58s/epoch - 577ms/step\n",
            "Epoch 9/20\n",
            "100/100 - 58s - loss: 0.4563 - acc: 0.8020 - val_loss: 1.0836 - val_acc: 0.6057 - 58s/epoch - 577ms/step\n",
            "Epoch 10/20\n",
            "100/100 - 58s - loss: 0.4736 - acc: 0.8014 - val_loss: 0.3365 - val_acc: 0.8671 - 58s/epoch - 578ms/step\n",
            "Epoch 11/20\n",
            "100/100 - 58s - loss: 0.4868 - acc: 0.8058 - val_loss: 0.3957 - val_acc: 0.8257 - 58s/epoch - 579ms/step\n",
            "Epoch 12/20\n",
            "100/100 - 58s - loss: 0.4776 - acc: 0.8064 - val_loss: 0.4582 - val_acc: 0.8157 - 58s/epoch - 581ms/step\n",
            "Epoch 13/20\n",
            "100/100 - 58s - loss: 0.4404 - acc: 0.8133 - val_loss: 0.4025 - val_acc: 0.8486 - 58s/epoch - 578ms/step\n",
            "Epoch 14/20\n",
            "100/100 - 58s - loss: 0.4228 - acc: 0.8340 - val_loss: 0.7229 - val_acc: 0.7929 - 58s/epoch - 576ms/step\n",
            "Epoch 15/20\n",
            "100/100 - 58s - loss: 0.4851 - acc: 0.7964 - val_loss: 0.5360 - val_acc: 0.7929 - 58s/epoch - 577ms/step\n",
            "Epoch 16/20\n",
            "100/100 - 59s - loss: 0.4405 - acc: 0.8258 - val_loss: 0.4376 - val_acc: 0.8357 - 59s/epoch - 589ms/step\n",
            "Epoch 17/20\n",
            "100/100 - 67s - loss: 0.4290 - acc: 0.8271 - val_loss: 0.6637 - val_acc: 0.7343 - 67s/epoch - 667ms/step\n",
            "Epoch 18/20\n",
            "100/100 - 59s - loss: 0.4426 - acc: 0.8139 - val_loss: 0.4106 - val_acc: 0.8543 - 59s/epoch - 592ms/step\n",
            "Epoch 19/20\n",
            "100/100 - 58s - loss: 0.4021 - acc: 0.8440 - val_loss: 0.3773 - val_acc: 0.8529 - 58s/epoch - 581ms/step\n",
            "Epoch 20/20\n",
            "100/100 - 59s - loss: 0.4277 - acc: 0.8233 - val_loss: 0.3834 - val_acc: 0.8414 - 59s/epoch - 590ms/step\n"
          ]
        }
      ]
    },
    {
      "cell_type": "markdown",
      "source": [
        "# Evaluating the Model"
      ],
      "metadata": {
        "id": "2h32wDoiIvwZ"
      }
    },
    {
      "cell_type": "code",
      "source": [
        "import matplotlib.pyplot as plt\n",
        "\n",
        "acc = history.history['acc']\n",
        "val_acc = history.history['val_acc']\n",
        "\n",
        "loss = history.history['loss']\n",
        "val_loss = history.history['val_loss']\n",
        "\n",
        "epochs = range(len(acc))\n",
        "\n",
        "plt.plot(epochs, acc)\n",
        "plt.plot(epochs, val_acc)\n",
        "plt.title(\"Training and validation accuracy\")\n",
        "\n",
        "plt.figure()\n",
        "\n",
        "plt.plot(epochs, loss)\n",
        "plt.plot(epochs, val_loss)\n",
        "plt.title(\"Training and Validation loss\")"
      ],
      "metadata": {
        "colab": {
          "base_uri": "https://localhost:8080/",
          "height": 563
        },
        "id": "NgzggP-1IDnI",
        "outputId": "42f26576-5064-400f-fcf3-8489cf21a5a7"
      },
      "execution_count": null,
      "outputs": [
        {
          "output_type": "execute_result",
          "data": {
            "text/plain": [
              "Text(0.5, 1.0, 'Training and Validation loss')"
            ]
          },
          "metadata": {},
          "execution_count": 58
        },
        {
          "output_type": "display_data",
          "data": {
            "text/plain": [
              "<Figure size 432x288 with 1 Axes>"
            ],
            "image/png": "[encoded data removed]"
          },
          "metadata": {
            "needs_background": "light"
          }
        },
        {
          "output_type": "display_data",
          "data": {
            "text/plain": [
              "<Figure size 432x288 with 1 Axes>"
            ],
            "image/png": "[encoded data removed]"
          },
          "metadata": {
            "needs_background": "light"
          }
        }
      ]
    },
    {
      "cell_type": "markdown",
      "source": [
        "We're getting up to about 85% accuracy and pretty low loss. Maybe with more epochs it will be better, but it already took twenty minutes to run the 20. Really what would improve this model a lot more would be *a lot* more data. The original Kaggle dataset has 25,000 images of cats and dogs while we used just 1500 dogs -- 1000 to train on -- and 900 pictures of coyotes -- **only 600** to train on.\n",
        "\n",
        "But if those \"found dog\" posts on Facebook are anything to go by we might already be better than the average person at telling coyotes from dogs."
      ],
      "metadata": {
        "id": "4L4EV-6bIzdt"
      }
    }
  ]
}